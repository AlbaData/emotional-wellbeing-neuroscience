{
 "cells": [
  {
   "cell_type": "markdown",
   "id": "f9a070de",
   "metadata": {},
   "source": [
    "# 📊 Visual Analysis: Emotional Wellbeing vs Lifestyle Factors\n",
    "\n",
    "In this notebook, we use visualizations to explore how specific habits are related to emotional wellbeing.\n"
   ]
  },
  {
   "cell_type": "code",
   "execution_count": 12,
   "id": "6fbc3a54",
   "metadata": {},
   "outputs": [],
   "source": [
    "\n"
   ]
  },
  {
   "cell_type": "markdown",
   "id": "b34b97f0",
   "metadata": {},
   "source": [
    "## 😴 Emotional Wellbeing vs Sleep Hours"
   ]
  },
  {
   "cell_type": "code",
   "execution_count": null,
   "id": "d8f2b84a",
   "metadata": {},
   "outputs": [],
   "source": [
    "plt.figure(figsize=(8, 5))\n",
    "sns.boxplot(x=\"Bienestar_emocional\", y=\"Horas_sueno\", data=df, palette=\"pastel\")\n",
    "plt.title(\"Emotional Wellbeing vs Hours of Sleep\")\n",
    "plt.xlabel(\"Emotional Wellbeing\")\n",
    "plt.ylabel(\"Hours of Sleep\")\n",
    "plt.tight_layout()\n",
    "plt.show()\n"
   ]
  },
  {
   "cell_type": "markdown",
   "id": "13375154",
   "metadata": {},
   "source": [
    "## 🛁 Emotional Wellbeing vs Self-care Level"
   ]
  },
  {
   "cell_type": "code",
   "execution_count": null,
   "id": "cafb3a5c",
   "metadata": {},
   "outputs": [],
   "source": [
    "plt.figure(figsize=(8, 5))\n",
    "sns.boxplot(x=\"Autocuidado\", y=\"Horas_sueno\", hue=\"Bienestar_emocional\", data=df, palette=\"Set2\")\n",
    "plt.title(\"Self-care Level vs Sleep by Emotional Wellbeing\")\n",
    "plt.xlabel(\"Self-care Level\")\n",
    "plt.ylabel(\"Hours of Sleep\")\n",
    "plt.tight_layout()\n",
    "plt.show()\n"
   ]
  },
  {
   "cell_type": "markdown",
   "id": "b7cbb1ac",
   "metadata": {},
   "source": [
    "## 🎨 Emotional Wellbeing vs Having a Passion"
   ]
  },
  {
   "cell_type": "code",
   "execution_count": null,
   "id": "7f3149be",
   "metadata": {},
   "outputs": [],
   "source": [
    "plt.figure(figsize=(7, 5))\n",
    "sns.countplot(x=\"Pasión\", hue=\"Bienestar_emocional\", data=df, palette=\"viridis\")\n",
    "plt.title(\"Emotional Wellbeing by Passion\")\n",
    "plt.xlabel(\"Has a Personal Passion\")\n",
    "plt.ylabel(\"Count\")\n",
    "plt.tight_layout()\n",
    "plt.show()\n"
   ]
  }
 ],
 "metadata": {
  "kernelspec": {
   "display_name": "Python 3 (ipykernel)",
   "language": "python",
   "name": "python3"
  },
  "language_info": {
   "codemirror_mode": {
    "name": "ipython",
    "version": 3
   },
   "file_extension": ".py",
   "mimetype": "text/x-python",
   "name": "python",
   "nbconvert_exporter": "python",
   "pygments_lexer": "ipython3",
   "version": "3.12.7"
  }
 },
 "nbformat": 4,
 "nbformat_minor": 5
}
