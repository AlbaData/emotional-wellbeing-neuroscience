{
 "cells": [
  {
   "cell_type": "markdown",
   "id": "f770da72",
   "metadata": {},
   "source": [
    "# 📊 Visual Analysis: Emotional Wellbeing vs Lifestyle Factors\n",
    "\n",
    "This notebook explores the relationship between emotional wellbeing and lifestyle habits through visualizations.\n"
   ]
  },
  {
   "cell_type": "code",
   "execution_count": null,
   "id": "215fb8bd",
   "metadata": {},
   "outputs": [],
   "source": [
    "import pandas as pd\n",
    "import matplotlib.pyplot as plt\n",
    "import seaborn as sns\n",
    "\n",
    "# Load dataset\n",
    "df = pd.read_csv(\"dataset_bienestar_emocional.csv\")\n",
    "\n",
    "# Rename columns to English for consistency\n",
    "df = df.rename(columns={\n",
    "    \"Bienestar_emocional\": \"Emotional_Wellbeing\",\n",
    "    \"Horas_sueno\": \"Sleep_Hours\",\n",
    "    \"Autocuidado\": \"Self_Care\",\n",
    "    \"Pasión\": \"Passion\"\n",
    "})\n",
    "\n",
    "# Set style\n",
    "sns.set(style=\"whitegrid\")\n"
   ]
  },
  {
   "cell_type": "markdown",
   "id": "43af2837",
   "metadata": {},
   "source": [
    "## 😴 Emotional Wellbeing vs Sleep Hours"
   ]
  },
  {
   "cell_type": "code",
   "execution_count": null,
   "id": "cb165221",
   "metadata": {},
   "outputs": [],
   "source": [
    "plt.figure(figsize=(8, 5))\n",
    "sns.boxplot(x=\"Emotional_Wellbeing\", y=\"Sleep_Hours\", data=df, palette=\"pastel\")\n",
    "plt.title(\"Emotional Wellbeing vs Sleep Hours\")\n",
    "plt.xlabel(\"Emotional Wellbeing\")\n",
    "plt.ylabel(\"Sleep Hours\")\n",
    "plt.tight_layout()\n",
    "plt.show()\n"
   ]
  },
  {
   "cell_type": "markdown",
   "id": "d485edf0",
   "metadata": {},
   "source": [
    "## 🛁 Emotional Wellbeing vs Self-Care"
   ]
  },
  {
   "cell_type": "code",
   "execution_count": null,
   "id": "86eff850",
   "metadata": {},
   "outputs": [],
   "source": [
    "plt.figure(figsize=(8, 5))\n",
    "sns.boxplot(x=\"Self_Care\", y=\"Sleep_Hours\", hue=\"Emotional_Wellbeing\", data=df, palette=\"Set2\")\n",
    "plt.title(\"Self-Care Level vs Sleep Hours by Emotional Wellbeing\")\n",
    "plt.xlabel(\"Self-Care Level\")\n",
    "plt.ylabel(\"Sleep Hours\")\n",
    "plt.tight_layout()\n",
    "plt.show()\n"
   ]
  },
  {
   "cell_type": "markdown",
   "id": "16a56fd5",
   "metadata": {},
   "source": [
    "## 🎨 Emotional Wellbeing vs Passion"
   ]
  },
  {
   "cell_type": "code",
   "execution_count": null,
   "id": "fe1daad0",
   "metadata": {},
   "outputs": [],
   "source": [
    "plt.figure(figsize=(7, 5))\n",
    "sns.countplot(x=\"Passion\", hue=\"Emotional_Wellbeing\", data=df, palette=\"viridis\")\n",
    "plt.title(\"Emotional Wellbeing by Passion\")\n",
    "plt.xlabel(\"Has a Passion\")\n",
    "plt.ylabel(\"Count\")\n",
    "plt.tight_layout()\n",
    "plt.show()\n"
   ]
  },
  {
   "cell_type": "markdown",
   "id": "e849b40b",
   "metadata": {},
   "source": [
    "## 🔍 Visual Analysis Insights\n",
    "\n",
    "The visualizations above suggest several meaningful trends:\n",
    "\n",
    "- 💤 **Sleep Hours**: Individuals with higher emotional wellbeing tend to report more sleep hours on average. This aligns with research linking quality sleep to emotional regulation and brain recovery.\n",
    "\n",
    "- 🛁 **Self-care**: Higher levels of self-care are more frequent among participants with higher emotional wellbeing. This highlights the importance of daily habits and routines for emotional balance.\n",
    "\n",
    "- 🎨 **Having a Passion**: Participants who report having a personal passion (like art, music, sports, etc.) show a tendency toward higher levels of emotional wellbeing. Engaging in fulfilling activities may contribute to a sense of purpose and joy.\n",
    "\n",
    "These insights can be used to design mental health strategies that promote healthy routines and emotional growth.\n"
   ]
  }
 ],
 "metadata": {},
 "nbformat": 4,
 "nbformat_minor": 5
}